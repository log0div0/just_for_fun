{
 "cells": [
  {
   "cell_type": "markdown",
   "metadata": {},
   "source": [
    "# Let's discover how to compose a LookAt matrix"
   ]
  },
  {
   "cell_type": "markdown",
   "metadata": {},
   "source": [
    "There is a picture describing the situation\n",
    "\n",
    "![](LookAt.PNG)\n"
   ]
  },
  {
   "cell_type": "markdown",
   "metadata": {},
   "source": [
    "There is a rectangle AB at the origin (we are looking from the side)"
   ]
  },
  {
   "cell_type": "code",
   "execution_count": 8,
   "metadata": {},
   "outputs": [],
   "source": [
    "center = [0.0, 0.0, 0.0]\n",
    "eye = [0.0, -3.0, 1.0]\n",
    "up = [0.0, 0.0, 1.0]\n",
    "A = [0.0, -0.5, 0.0]\n",
    "B = [0.0, 0.5, 0.0];"
   ]
  },
  {
   "cell_type": "markdown",
   "metadata": {},
   "source": [
    "Our goal is to find how the recrangle looks at the screen. We should transfer A and B to camera space and then apply perspective transformation.\n",
    "At first let's make a camera transform matrix"
   ]
  },
  {
   "cell_type": "code",
   "execution_count": 9,
   "metadata": {},
   "outputs": [
    {
     "name": "stdout",
     "output_type": "stream",
     "text": [
      "camera_z = [0.0, 0.9486832980505138, -0.31622776601683794]\n",
      "camera_x = [1.0, -0.0, 0.0]\n",
      "camera_y = [0.0, -0.31622776601683794, -0.9486832980505138]\n"
     ]
    },
    {
     "data": {
      "text/plain": [
       "4×4 Matrix{Float64}:\n",
       "  1.0   0.0        0.0        0.0\n",
       " -0.0  -0.316228   0.948683  -3.0\n",
       "  0.0  -0.948683  -0.316228   1.0\n",
       "  0.0   0.0        0.0        1.0"
      ]
     },
     "execution_count": 9,
     "metadata": {},
     "output_type": "execute_result"
    }
   ],
   "source": [
    "using LinearAlgebra\n",
    "\n",
    "camera_z = normalize(center - eye)\n",
    "camera_x = normalize(cross(camera_z, up))\n",
    "camera_y = cross(camera_z, camera_x)\n",
    "\n",
    "@show(camera_z)\n",
    "@show(camera_x)\n",
    "@show(camera_y)\n",
    "\n",
    "camera_transform = [camera_x camera_y camera_z eye\n",
    "           0        0         0        1]"
   ]
  },
  {
   "cell_type": "markdown",
   "metadata": {},
   "source": [
    "Let's check that everything is ok"
   ]
  },
  {
   "cell_type": "code",
   "execution_count": 10,
   "metadata": {},
   "outputs": [
    {
     "name": "stdout",
     "output_type": "stream",
     "text": [
      "camera_transform * [0, 0, 0, 1] = [0.0, -3.0, 1.0, 1.0]\n",
      "camera_transform * [0, 0, norm(eye), 1] = [0.0, 0.0, 0.0, 1.0]\n"
     ]
    }
   ],
   "source": [
    "@show(camera_transform * [0, 0, 0, 1])\n",
    "@show(camera_transform * [0, 0, norm(eye), 1]);"
   ]
  },
  {
   "cell_type": "markdown",
   "metadata": {},
   "source": [
    "camera_transform is a Camera->World space transformation. look_at is a World->Camera space transformation"
   ]
  },
  {
   "cell_type": "code",
   "execution_count": 11,
   "metadata": {},
   "outputs": [
    {
     "name": "stdout",
     "output_type": "stream",
     "text": [
      "cam_center = [0.0, -9.80367876018413e-18, 3.1622776601683795, 1.0]\n",
      "cam_A = [0.0, 0.15811388300841897, 2.6879360111431225, 1.0]\n",
      "cam_B = [0.0, -0.15811388300841897, 3.6366193091936365, 1.0]\n"
     ]
    }
   ],
   "source": [
    "look_at = inv(camera_transform)\n",
    "cam_center = look_at * [center; 1]\n",
    "cam_A = look_at * [A; 1]\n",
    "cam_B = look_at * [B; 1]\n",
    "\n",
    "@show(cam_center)\n",
    "@show(cam_A)\n",
    "@show(cam_B);"
   ]
  },
  {
   "cell_type": "markdown",
   "metadata": {},
   "source": [
    "Nice! Now let's apply a simple perspective matrix"
   ]
  },
  {
   "cell_type": "code",
   "execution_count": 12,
   "metadata": {},
   "outputs": [
    {
     "name": "stdout",
     "output_type": "stream",
     "text": [
      "perspective = [1.732050807568877 0.0 0.0 0.0; 0.0 1.732050807568877 0.0 0.0; 0.0 0.0 0.0 0.0; 0.0 0.0 1.0 0.0]\n",
      "perspective * cam_center = [0.0, -1.6980469713722768e-17, 0.0, 3.1622776601683795]\n",
      "perspective * cam_A = [0.0, 0.27386127875258304, 0.0, 2.6879360111431225]\n",
      "perspective * cam_B = [0.0, -0.27386127875258304, 0.0, 3.6366193091936365]\n"
     ]
    },
    {
     "data": {
      "text/plain": [
       "4-element Vector{Float64}:\n",
       "  0.0\n",
       " -0.27386127875258304\n",
       "  0.0\n",
       "  3.6366193091936365"
      ]
     },
     "execution_count": 12,
     "metadata": {},
     "output_type": "execute_result"
    }
   ],
   "source": [
    "FOVy = 60.0\n",
    "g = 1 / tand(FOVy / 2)\n",
    "perspective = [g 0 0 0\n",
    "               0 g 0 0\n",
    "               0 0 0 0\n",
    "               0 0 1 0 ]\n",
    "@show(perspective)\n",
    "\n",
    "@show(perspective * cam_center)\n",
    "@show(perspective * cam_A)\n",
    "@show(perspective * cam_B)"
   ]
  },
  {
   "cell_type": "code",
   "execution_count": null,
   "metadata": {},
   "outputs": [],
   "source": []
  }
 ],
 "metadata": {
  "kernelspec": {
   "display_name": "Julia 1.7.1",
   "language": "julia",
   "name": "julia-1.7"
  },
  "language_info": {
   "file_extension": ".jl",
   "mimetype": "application/julia",
   "name": "julia",
   "version": "1.7.1"
  },
  "toc-autonumbering": false,
  "toc-showcode": false,
  "toc-showmarkdowntxt": false
 },
 "nbformat": 4,
 "nbformat_minor": 4
}
